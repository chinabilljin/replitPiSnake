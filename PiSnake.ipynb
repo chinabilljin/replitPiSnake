{
  "nbformat": 4,
  "nbformat_minor": 0,
  "metadata": {
    "colab": {
      "provenance": []
    },
    "kernelspec": {
      "name": "python3",
      "display_name": "Python 3"
    },
    "language_info": {
      "name": "python"
    }
  },
  "cells": [
    {
      "cell_type": "code",
      "execution_count": null,
      "metadata": {
        "id": "wmEm12q4F8ut"
      },
      "outputs": [],
      "source": [
        "from IPython.display import IFrame\n",
        "IFrame(src='https://repl.it/@MichaelDArgenio/PiSnake?lite=false',\n",
        "       frameborder='0', width='800', height='800')"
      ]
    }
  ]
}